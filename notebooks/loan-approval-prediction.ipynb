{
 "cells": [
  {
   "cell_type": "code",
   "execution_count": 1,
   "id": "c5679761",
   "metadata": {
    "execution": {
     "iopub.execute_input": "2022-07-22T17:28:15.012300Z",
     "iopub.status.busy": "2022-07-22T17:28:15.011680Z",
     "iopub.status.idle": "2022-07-22T17:28:16.709422Z",
     "shell.execute_reply": "2022-07-22T17:28:16.708316Z"
    },
    "papermill": {
     "duration": 1.714234,
     "end_time": "2022-07-22T17:28:16.712878",
     "exception": false,
     "start_time": "2022-07-22T17:28:14.998644",
     "status": "completed"
    },
    "tags": []
   },
   "outputs": [],
   "source": [
    "import pandas as pd\n",
    "import pickle\n",
    "import matplotlib.pyplot as plt\n",
    "import seaborn as sns\n",
    "from sklearn.model_selection import train_test_split\n",
    "from sklearn.metrics import precision_score, recall_score, f1_score, accuracy_score, confusion_matrix\n",
    "from xgboost import XGBClassifier\n",
    "import numpy as np\n",
    "from numpy import NaN\n",
    "from statistics import mode\n",
    "from imblearn.over_sampling import SMOTE\n",
    "import random\n",
    "random.seed(42)\n",
    "import warnings\n",
    "warnings.filterwarnings(\"ignore\")"
   ]
  },
  {
   "cell_type": "code",
   "execution_count": 2,
   "id": "d35cc469",
   "metadata": {
    "execution": {
     "iopub.execute_input": "2022-07-22T17:28:16.744343Z",
     "iopub.status.busy": "2022-07-22T17:28:16.743942Z",
     "iopub.status.idle": "2022-07-22T17:28:16.812524Z",
     "shell.execute_reply": "2022-07-22T17:28:16.811427Z"
    },
    "papermill": {
     "duration": 0.088347,
     "end_time": "2022-07-22T17:28:16.816414",
     "exception": false,
     "start_time": "2022-07-22T17:28:16.728067",
     "status": "completed"
    },
    "tags": []
   },
   "outputs": [
    {
     "data": {
      "text/html": [
       "<div>\n",
       "<style scoped>\n",
       "    .dataframe tbody tr th:only-of-type {\n",
       "        vertical-align: middle;\n",
       "    }\n",
       "\n",
       "    .dataframe tbody tr th {\n",
       "        vertical-align: top;\n",
       "    }\n",
       "\n",
       "    .dataframe thead th {\n",
       "        text-align: right;\n",
       "    }\n",
       "</style>\n",
       "<table border=\"1\" class=\"dataframe\">\n",
       "  <thead>\n",
       "    <tr style=\"text-align: right;\">\n",
       "      <th></th>\n",
       "      <th>Loan_ID</th>\n",
       "      <th>Gender</th>\n",
       "      <th>Married</th>\n",
       "      <th>Dependents</th>\n",
       "      <th>Education</th>\n",
       "      <th>Self_Employed</th>\n",
       "      <th>ApplicantIncome</th>\n",
       "      <th>CoapplicantIncome</th>\n",
       "      <th>LoanAmount</th>\n",
       "      <th>Loan_Amount_Term</th>\n",
       "      <th>Credit_History</th>\n",
       "      <th>Property_Area</th>\n",
       "      <th>Loan_Status</th>\n",
       "    </tr>\n",
       "  </thead>\n",
       "  <tbody>\n",
       "    <tr>\n",
       "      <th>0</th>\n",
       "      <td>LP001002</td>\n",
       "      <td>Male</td>\n",
       "      <td>No</td>\n",
       "      <td>0</td>\n",
       "      <td>Graduate</td>\n",
       "      <td>No</td>\n",
       "      <td>5849</td>\n",
       "      <td>0.0</td>\n",
       "      <td>NaN</td>\n",
       "      <td>360.0</td>\n",
       "      <td>1.0</td>\n",
       "      <td>Urban</td>\n",
       "      <td>Y</td>\n",
       "    </tr>\n",
       "    <tr>\n",
       "      <th>1</th>\n",
       "      <td>LP001003</td>\n",
       "      <td>Male</td>\n",
       "      <td>Yes</td>\n",
       "      <td>1</td>\n",
       "      <td>Graduate</td>\n",
       "      <td>No</td>\n",
       "      <td>4583</td>\n",
       "      <td>1508.0</td>\n",
       "      <td>128.0</td>\n",
       "      <td>360.0</td>\n",
       "      <td>1.0</td>\n",
       "      <td>Rural</td>\n",
       "      <td>N</td>\n",
       "    </tr>\n",
       "    <tr>\n",
       "      <th>2</th>\n",
       "      <td>LP001005</td>\n",
       "      <td>Male</td>\n",
       "      <td>Yes</td>\n",
       "      <td>0</td>\n",
       "      <td>Graduate</td>\n",
       "      <td>Yes</td>\n",
       "      <td>3000</td>\n",
       "      <td>0.0</td>\n",
       "      <td>66.0</td>\n",
       "      <td>360.0</td>\n",
       "      <td>1.0</td>\n",
       "      <td>Urban</td>\n",
       "      <td>Y</td>\n",
       "    </tr>\n",
       "    <tr>\n",
       "      <th>3</th>\n",
       "      <td>LP001006</td>\n",
       "      <td>Male</td>\n",
       "      <td>Yes</td>\n",
       "      <td>0</td>\n",
       "      <td>Not Graduate</td>\n",
       "      <td>No</td>\n",
       "      <td>2583</td>\n",
       "      <td>2358.0</td>\n",
       "      <td>120.0</td>\n",
       "      <td>360.0</td>\n",
       "      <td>1.0</td>\n",
       "      <td>Urban</td>\n",
       "      <td>Y</td>\n",
       "    </tr>\n",
       "    <tr>\n",
       "      <th>4</th>\n",
       "      <td>LP001008</td>\n",
       "      <td>Male</td>\n",
       "      <td>No</td>\n",
       "      <td>0</td>\n",
       "      <td>Graduate</td>\n",
       "      <td>No</td>\n",
       "      <td>6000</td>\n",
       "      <td>0.0</td>\n",
       "      <td>141.0</td>\n",
       "      <td>360.0</td>\n",
       "      <td>1.0</td>\n",
       "      <td>Urban</td>\n",
       "      <td>Y</td>\n",
       "    </tr>\n",
       "  </tbody>\n",
       "</table>\n",
       "</div>"
      ],
      "text/plain": [
       "    Loan_ID Gender Married Dependents     Education Self_Employed  \\\n",
       "0  LP001002   Male      No          0      Graduate            No   \n",
       "1  LP001003   Male     Yes          1      Graduate            No   \n",
       "2  LP001005   Male     Yes          0      Graduate           Yes   \n",
       "3  LP001006   Male     Yes          0  Not Graduate            No   \n",
       "4  LP001008   Male      No          0      Graduate            No   \n",
       "\n",
       "   ApplicantIncome  CoapplicantIncome  LoanAmount  Loan_Amount_Term  \\\n",
       "0             5849                0.0         NaN             360.0   \n",
       "1             4583             1508.0       128.0             360.0   \n",
       "2             3000                0.0        66.0             360.0   \n",
       "3             2583             2358.0       120.0             360.0   \n",
       "4             6000                0.0       141.0             360.0   \n",
       "\n",
       "   Credit_History Property_Area Loan_Status  \n",
       "0             1.0         Urban           Y  \n",
       "1             1.0         Rural           N  \n",
       "2             1.0         Urban           Y  \n",
       "3             1.0         Urban           Y  \n",
       "4             1.0         Urban           Y  "
      ]
     },
     "execution_count": 2,
     "metadata": {},
     "output_type": "execute_result"
    }
   ],
   "source": [
    "df = pd.read_csv(\"../data/loan_data_set.csv\")\n",
    "df.head()"
   ]
  },
  {
   "cell_type": "code",
   "execution_count": 3,
   "id": "f5512146",
   "metadata": {
    "execution": {
     "iopub.execute_input": "2022-07-22T17:28:16.845082Z",
     "iopub.status.busy": "2022-07-22T17:28:16.844689Z",
     "iopub.status.idle": "2022-07-22T17:28:16.855580Z",
     "shell.execute_reply": "2022-07-22T17:28:16.854493Z"
    },
    "papermill": {
     "duration": 0.025437,
     "end_time": "2022-07-22T17:28:16.857796",
     "exception": false,
     "start_time": "2022-07-22T17:28:16.832359",
     "status": "completed"
    },
    "tags": []
   },
   "outputs": [],
   "source": [
    "df.drop('Loan_ID', axis=1, inplace=True)"
   ]
  },
  {
   "cell_type": "markdown",
   "id": "47e74da9",
   "metadata": {
    "papermill": {
     "duration": 0.009951,
     "end_time": "2022-07-22T17:28:16.878049",
     "exception": false,
     "start_time": "2022-07-22T17:28:16.868098",
     "status": "completed"
    },
    "tags": []
   },
   "source": [
    "## Checking NaN Values"
   ]
  },
  {
   "cell_type": "code",
   "execution_count": 4,
   "id": "2a610aeb",
   "metadata": {
    "execution": {
     "iopub.execute_input": "2022-07-22T17:28:16.901452Z",
     "iopub.status.busy": "2022-07-22T17:28:16.900519Z",
     "iopub.status.idle": "2022-07-22T17:28:16.920372Z",
     "shell.execute_reply": "2022-07-22T17:28:16.919016Z"
    },
    "papermill": {
     "duration": 0.035222,
     "end_time": "2022-07-22T17:28:16.923440",
     "exception": false,
     "start_time": "2022-07-22T17:28:16.888218",
     "status": "completed"
    },
    "tags": []
   },
   "outputs": [
    {
     "name": "stdout",
     "output_type": "stream",
     "text": [
      "False    601\n",
      "True      13\n",
      "Name: Gender, dtype: int64\n",
      "False    611\n",
      "True       3\n",
      "Name: Married, dtype: int64\n",
      "False    599\n",
      "True      15\n",
      "Name: Dependents, dtype: int64\n",
      "False    614\n",
      "Name: Education, dtype: int64\n",
      "False    582\n",
      "True      32\n",
      "Name: Self_Employed, dtype: int64\n",
      "False    614\n",
      "Name: ApplicantIncome, dtype: int64\n",
      "False    614\n",
      "Name: CoapplicantIncome, dtype: int64\n",
      "False    592\n",
      "True      22\n",
      "Name: LoanAmount, dtype: int64\n",
      "False    600\n",
      "True      14\n",
      "Name: Loan_Amount_Term, dtype: int64\n",
      "False    564\n",
      "True      50\n",
      "Name: Credit_History, dtype: int64\n",
      "False    614\n",
      "Name: Property_Area, dtype: int64\n",
      "False    614\n",
      "Name: Loan_Status, dtype: int64\n"
     ]
    }
   ],
   "source": [
    "for i in df.keys():\n",
    "    print(df[f'{i}'].isnull().value_counts())"
   ]
  },
  {
   "cell_type": "markdown",
   "id": "e244b637",
   "metadata": {
    "papermill": {
     "duration": 0.009887,
     "end_time": "2022-07-22T17:28:16.944356",
     "exception": false,
     "start_time": "2022-07-22T17:28:16.934469",
     "status": "completed"
    },
    "tags": []
   },
   "source": [
    "## Spliting Columns based on categorical and numerical"
   ]
  },
  {
   "cell_type": "code",
   "execution_count": 5,
   "id": "b09e61ae",
   "metadata": {
    "execution": {
     "iopub.execute_input": "2022-07-22T17:28:16.967079Z",
     "iopub.status.busy": "2022-07-22T17:28:16.966707Z",
     "iopub.status.idle": "2022-07-22T17:28:16.971852Z",
     "shell.execute_reply": "2022-07-22T17:28:16.970769Z"
    },
    "papermill": {
     "duration": 0.019281,
     "end_time": "2022-07-22T17:28:16.973945",
     "exception": false,
     "start_time": "2022-07-22T17:28:16.954664",
     "status": "completed"
    },
    "tags": []
   },
   "outputs": [],
   "source": [
    "categorical = ['Gender', 'Married', 'Education', 'Self_Employed', 'Credit_History', 'Property_Area', 'Loan_Amount_Term', 'Dependents']\n",
    "numerical = ['ApplicantIncome', 'CoapplicantIncome', 'LoanAmount']"
   ]
  },
  {
   "cell_type": "code",
   "execution_count": 6,
   "id": "75e8c345",
   "metadata": {
    "execution": {
     "iopub.execute_input": "2022-07-22T17:28:16.996516Z",
     "iopub.status.busy": "2022-07-22T17:28:16.995718Z",
     "iopub.status.idle": "2022-07-22T17:28:17.012204Z",
     "shell.execute_reply": "2022-07-22T17:28:17.011229Z"
    },
    "papermill": {
     "duration": 0.030314,
     "end_time": "2022-07-22T17:28:17.014525",
     "exception": false,
     "start_time": "2022-07-22T17:28:16.984211",
     "status": "completed"
    },
    "tags": []
   },
   "outputs": [],
   "source": [
    "# As number of NaN values are few in comparision to known values in almost all columns thus replacing categroical values with the most frequent value and regresive values with the mean.\n",
    "for col in numerical:\n",
    "    df[f'{col}'].replace(NaN, df[f'{col}'].mean(skipna=True), inplace=True)\n",
    "\n",
    "for col in categorical:\n",
    "    df[f'{col}'].replace(NaN, df[f'{col}'].mode()[0], inplace=True)"
   ]
  },
  {
   "cell_type": "markdown",
   "id": "85327553",
   "metadata": {
    "papermill": {
     "duration": 0.0102,
     "end_time": "2022-07-22T17:28:17.034956",
     "exception": false,
     "start_time": "2022-07-22T17:28:17.024756",
     "status": "completed"
    },
    "tags": []
   },
   "source": [
    "## Encoding Categorical Values"
   ]
  },
  {
   "cell_type": "code",
   "execution_count": 7,
   "id": "71219e01",
   "metadata": {
    "execution": {
     "iopub.execute_input": "2022-07-22T17:28:17.057211Z",
     "iopub.status.busy": "2022-07-22T17:28:17.056800Z",
     "iopub.status.idle": "2022-07-22T17:28:17.063992Z",
     "shell.execute_reply": "2022-07-22T17:28:17.062765Z"
    },
    "papermill": {
     "duration": 0.021084,
     "end_time": "2022-07-22T17:28:17.066147",
     "exception": false,
     "start_time": "2022-07-22T17:28:17.045063",
     "status": "completed"
    },
    "tags": []
   },
   "outputs": [],
   "source": [
    "df[\"Loan_Status\"].replace('Y', 1, inplace=True)\n",
    "df[\"Loan_Status\"].replace('N', 0, inplace=True)\n",
    "df['Loan_Status'] = df['Loan_Status'].astype(int)"
   ]
  },
  {
   "cell_type": "code",
   "execution_count": 8,
   "id": "bd0a6f2a",
   "metadata": {
    "execution": {
     "iopub.execute_input": "2022-07-22T17:28:17.088300Z",
     "iopub.status.busy": "2022-07-22T17:28:17.087934Z",
     "iopub.status.idle": "2022-07-22T17:28:17.095217Z",
     "shell.execute_reply": "2022-07-22T17:28:17.094150Z"
    },
    "papermill": {
     "duration": 0.020727,
     "end_time": "2022-07-22T17:28:17.097098",
     "exception": false,
     "start_time": "2022-07-22T17:28:17.076371",
     "status": "completed"
    },
    "tags": []
   },
   "outputs": [],
   "source": [
    "df[\"Self_Employed\"].replace('Yes', 1, inplace=True)\n",
    "df[\"Self_Employed\"].replace('No', 0, inplace=True)\n",
    "df[\"Self_Employed\"] = df[\"Self_Employed\"].astype(int)"
   ]
  },
  {
   "cell_type": "code",
   "execution_count": 9,
   "id": "f53d3d91",
   "metadata": {
    "execution": {
     "iopub.execute_input": "2022-07-22T17:28:17.118803Z",
     "iopub.status.busy": "2022-07-22T17:28:17.118168Z",
     "iopub.status.idle": "2022-07-22T17:28:17.132398Z",
     "shell.execute_reply": "2022-07-22T17:28:17.131345Z"
    },
    "papermill": {
     "duration": 0.027419,
     "end_time": "2022-07-22T17:28:17.134579",
     "exception": false,
     "start_time": "2022-07-22T17:28:17.107160",
     "status": "completed"
    },
    "tags": []
   },
   "outputs": [
    {
     "data": {
      "text/plain": [
       "(347, 155, 75, 37, 2.238709677419355, 2.027027027027027)"
      ]
     },
     "execution_count": 9,
     "metadata": {},
     "output_type": "execute_result"
    }
   ],
   "source": [
    "\n",
    "male_yes =  len(df[(df['Loan_Status'] == 1) & (df['Gender'] == 'Male')  ])\n",
    "male_no =   len(df[(df['Loan_Status'] == 0) & (df['Gender'] == 'Male')  ])\n",
    "female_yes =len(df[(df['Loan_Status'] == 1) & (df['Gender'] == 'Female')])\n",
    "female_no = len(df[(df['Loan_Status'] == 0) & (df['Gender'] == 'Female')])\n",
    "male_yes, male_no, female_yes, female_no, male_yes/male_no, female_yes/female_no"
   ]
  },
  {
   "cell_type": "code",
   "execution_count": 10,
   "id": "09c65ebd",
   "metadata": {
    "execution": {
     "iopub.execute_input": "2022-07-22T17:28:17.156234Z",
     "iopub.status.busy": "2022-07-22T17:28:17.155866Z",
     "iopub.status.idle": "2022-07-22T17:28:17.162811Z",
     "shell.execute_reply": "2022-07-22T17:28:17.162055Z"
    },
    "papermill": {
     "duration": 0.020267,
     "end_time": "2022-07-22T17:28:17.164978",
     "exception": false,
     "start_time": "2022-07-22T17:28:17.144711",
     "status": "completed"
    },
    "tags": []
   },
   "outputs": [],
   "source": [
    "df['Gender'] = pd.get_dummies(df['Gender'])['Male']"
   ]
  },
  {
   "cell_type": "code",
   "execution_count": 11,
   "id": "2416e4e3",
   "metadata": {
    "execution": {
     "iopub.execute_input": "2022-07-22T17:28:17.187312Z",
     "iopub.status.busy": "2022-07-22T17:28:17.186981Z",
     "iopub.status.idle": "2022-07-22T17:28:17.195065Z",
     "shell.execute_reply": "2022-07-22T17:28:17.193991Z"
    },
    "papermill": {
     "duration": 0.021882,
     "end_time": "2022-07-22T17:28:17.197197",
     "exception": false,
     "start_time": "2022-07-22T17:28:17.175315",
     "status": "completed"
    },
    "tags": []
   },
   "outputs": [
    {
     "data": {
      "text/plain": [
       "0     360\n",
       "1     102\n",
       "2     101\n",
       "3+     51\n",
       "Name: Dependents, dtype: int64"
      ]
     },
     "execution_count": 11,
     "metadata": {},
     "output_type": "execute_result"
    }
   ],
   "source": [
    "df['Dependents'].value_counts()"
   ]
  },
  {
   "cell_type": "code",
   "execution_count": 12,
   "id": "23545950",
   "metadata": {
    "execution": {
     "iopub.execute_input": "2022-07-22T17:28:17.219811Z",
     "iopub.status.busy": "2022-07-22T17:28:17.219439Z",
     "iopub.status.idle": "2022-07-22T17:28:17.225359Z",
     "shell.execute_reply": "2022-07-22T17:28:17.224397Z"
    },
    "papermill": {
     "duration": 0.019862,
     "end_time": "2022-07-22T17:28:17.227404",
     "exception": false,
     "start_time": "2022-07-22T17:28:17.207542",
     "status": "completed"
    },
    "tags": []
   },
   "outputs": [],
   "source": [
    "df['Dependents'].replace('3+', 3, inplace=True)\n",
    "df['Dependents']= df['Dependents'].astype(int)"
   ]
  },
  {
   "cell_type": "code",
   "execution_count": 13,
   "id": "fa1c1bb8",
   "metadata": {
    "execution": {
     "iopub.execute_input": "2022-07-22T17:28:17.249780Z",
     "iopub.status.busy": "2022-07-22T17:28:17.249424Z",
     "iopub.status.idle": "2022-07-22T17:28:17.258088Z",
     "shell.execute_reply": "2022-07-22T17:28:17.257305Z"
    },
    "papermill": {
     "duration": 0.02237,
     "end_time": "2022-07-22T17:28:17.260123",
     "exception": false,
     "start_time": "2022-07-22T17:28:17.237753",
     "status": "completed"
    },
    "tags": []
   },
   "outputs": [
    {
     "data": {
      "text/plain": [
       "360.0    526\n",
       "180.0     44\n",
       "480.0     15\n",
       "300.0     13\n",
       "240.0      4\n",
       "84.0       4\n",
       "120.0      3\n",
       "60.0       2\n",
       "36.0       2\n",
       "12.0       1\n",
       "Name: Loan_Amount_Term, dtype: int64"
      ]
     },
     "execution_count": 13,
     "metadata": {},
     "output_type": "execute_result"
    }
   ],
   "source": [
    "df['Loan_Amount_Term'].value_counts()"
   ]
  },
  {
   "cell_type": "code",
   "execution_count": 14,
   "id": "904f1838",
   "metadata": {
    "execution": {
     "iopub.execute_input": "2022-07-22T17:28:17.282611Z",
     "iopub.status.busy": "2022-07-22T17:28:17.281967Z",
     "iopub.status.idle": "2022-07-22T17:28:17.504685Z",
     "shell.execute_reply": "2022-07-22T17:28:17.503438Z"
    },
    "papermill": {
     "duration": 0.237097,
     "end_time": "2022-07-22T17:28:17.507494",
     "exception": false,
     "start_time": "2022-07-22T17:28:17.270397",
     "status": "completed"
    },
    "tags": []
   },
   "outputs": [
    {
     "data": {
      "text/plain": [
       "<AxesSubplot:xlabel='Married', ylabel='Count'>"
      ]
     },
     "execution_count": 14,
     "metadata": {},
     "output_type": "execute_result"
    },
    {
     "data": {
      "image/png": "[encoded data removed]",
      "text/plain": [
       "<Figure size 432x288 with 1 Axes>"
      ]
     },
     "metadata": {
      "needs_background": "light"
     },
     "output_type": "display_data"
    }
   ],
   "source": [
    "sns.histplot(df[df['Loan_Status'] == 1]['Married'], color='green')\n",
    "sns.histplot(df[df['Loan_Status'] == 0]['Married'], color='red')"
   ]
  },
  {
   "cell_type": "code",
   "execution_count": 15,
   "id": "8bd64fac",
   "metadata": {
    "execution": {
     "iopub.execute_input": "2022-07-22T17:28:17.531032Z",
     "iopub.status.busy": "2022-07-22T17:28:17.530312Z",
     "iopub.status.idle": "2022-07-22T17:28:17.537027Z",
     "shell.execute_reply": "2022-07-22T17:28:17.536027Z"
    },
    "papermill": {
     "duration": 0.02132,
     "end_time": "2022-07-22T17:28:17.539619",
     "exception": false,
     "start_time": "2022-07-22T17:28:17.518299",
     "status": "completed"
    },
    "tags": []
   },
   "outputs": [],
   "source": [
    "df['Married'] = pd.get_dummies(df['Married'])['Yes']"
   ]
  },
  {
   "cell_type": "code",
   "execution_count": 16,
   "id": "ede19a6d",
   "metadata": {
    "execution": {
     "iopub.execute_input": "2022-07-22T17:28:17.563132Z",
     "iopub.status.busy": "2022-07-22T17:28:17.562723Z",
     "iopub.status.idle": "2022-07-22T17:28:17.751622Z",
     "shell.execute_reply": "2022-07-22T17:28:17.750028Z"
    },
    "papermill": {
     "duration": 0.204416,
     "end_time": "2022-07-22T17:28:17.755020",
     "exception": false,
     "start_time": "2022-07-22T17:28:17.550604",
     "status": "completed"
    },
    "tags": []
   },
   "outputs": [
    {
     "data": {
      "text/plain": [
       "<AxesSubplot:xlabel='Education', ylabel='Count'>"
      ]
     },
     "execution_count": 16,
     "metadata": {},
     "output_type": "execute_result"
    },
    {
     "data": {
      "image/png": "[encoded data removed]",
      "text/plain": [
       "<Figure size 432x288 with 1 Axes>"
      ]
     },
     "metadata": {
      "needs_background": "light"
     },
     "output_type": "display_data"
    }
   ],
   "source": [
    "sns.histplot(df[df['Loan_Status'] == 1]['Education'], color='green')\n",
    "sns.histplot(df[df['Loan_Status'] == 0]['Education'], color='red')"
   ]
  },
  {
   "cell_type": "code",
   "execution_count": 17,
   "id": "b210ac53",
   "metadata": {
    "execution": {
     "iopub.execute_input": "2022-07-22T17:28:17.779779Z",
     "iopub.status.busy": "2022-07-22T17:28:17.779366Z",
     "iopub.status.idle": "2022-07-22T17:28:17.786205Z",
     "shell.execute_reply": "2022-07-22T17:28:17.785458Z"
    },
    "papermill": {
     "duration": 0.021394,
     "end_time": "2022-07-22T17:28:17.788250",
     "exception": false,
     "start_time": "2022-07-22T17:28:17.766856",
     "status": "completed"
    },
    "tags": []
   },
   "outputs": [],
   "source": [
    "df['Education'] = pd.get_dummies(df['Education'])['Graduate']"
   ]
  },
  {
   "cell_type": "code",
   "execution_count": 18,
   "id": "dc166374",
   "metadata": {
    "execution": {
     "iopub.execute_input": "2022-07-22T17:28:17.812719Z",
     "iopub.status.busy": "2022-07-22T17:28:17.811994Z",
     "iopub.status.idle": "2022-07-22T17:28:18.010369Z",
     "shell.execute_reply": "2022-07-22T17:28:18.009106Z"
    },
    "papermill": {
     "duration": 0.213317,
     "end_time": "2022-07-22T17:28:18.012721",
     "exception": false,
     "start_time": "2022-07-22T17:28:17.799404",
     "status": "completed"
    },
    "tags": []
   },
   "outputs": [
    {
     "data": {
      "text/plain": [
       "<AxesSubplot:xlabel='Property_Area', ylabel='Count'>"
      ]
     },
     "execution_count": 18,
     "metadata": {},
     "output_type": "execute_result"
    },
    {
     "data": {
      "image/png": "[encoded data removed]",
      "text/plain": [
       "<Figure size 432x288 with 1 Axes>"
      ]
     },
     "metadata": {
      "needs_background": "light"
     },
     "output_type": "display_data"
    }
   ],
   "source": [
    "sns.histplot(df[df['Loan_Status'] == 1]['Property_Area'], color='green')\n",
    "sns.histplot(df[df['Loan_Status'] == 0]['Property_Area'], color='red')"
   ]
  },
  {
   "cell_type": "code",
   "execution_count": 19,
   "id": "a8596a93",
   "metadata": {
    "execution": {
     "iopub.execute_input": "2022-07-22T17:28:18.037724Z",
     "iopub.status.busy": "2022-07-22T17:28:18.037082Z",
     "iopub.status.idle": "2022-07-22T17:28:18.045041Z",
     "shell.execute_reply": "2022-07-22T17:28:18.044104Z"
    },
    "papermill": {
     "duration": 0.022864,
     "end_time": "2022-07-22T17:28:18.047226",
     "exception": false,
     "start_time": "2022-07-22T17:28:18.024362",
     "status": "completed"
    },
    "tags": []
   },
   "outputs": [],
   "source": [
    "df['Property_Area'].replace('Semiurban', 2, inplace=True)\n",
    "df['Property_Area'].replace('Urban', 1, inplace=True)\n",
    "df['Property_Area'].replace('Rural', 0, inplace=True)"
   ]
  },
  {
   "cell_type": "code",
   "execution_count": 20,
   "id": "6ee6fb2c",
   "metadata": {
    "execution": {
     "iopub.execute_input": "2022-07-22T17:28:18.072969Z",
     "iopub.status.busy": "2022-07-22T17:28:18.072599Z",
     "iopub.status.idle": "2022-07-22T17:28:18.088038Z",
     "shell.execute_reply": "2022-07-22T17:28:18.086857Z"
    },
    "papermill": {
     "duration": 0.031513,
     "end_time": "2022-07-22T17:28:18.091128",
     "exception": false,
     "start_time": "2022-07-22T17:28:18.059615",
     "status": "completed"
    },
    "tags": []
   },
   "outputs": [
    {
     "name": "stdout",
     "output_type": "stream",
     "text": [
      "<class 'pandas.core.frame.DataFrame'>\n",
      "RangeIndex: 614 entries, 0 to 613\n",
      "Data columns (total 12 columns):\n",
      " #   Column             Non-Null Count  Dtype  \n",
      "---  ------             --------------  -----  \n",
      " 0   Gender             614 non-null    uint8  \n",
      " 1   Married            614 non-null    uint8  \n",
      " 2   Dependents         614 non-null    int64  \n",
      " 3   Education          614 non-null    uint8  \n",
      " 4   Self_Employed      614 non-null    int64  \n",
      " 5   ApplicantIncome    614 non-null    int64  \n",
      " 6   CoapplicantIncome  614 non-null    float64\n",
      " 7   LoanAmount         614 non-null    float64\n",
      " 8   Loan_Amount_Term   614 non-null    float64\n",
      " 9   Credit_History     614 non-null    float64\n",
      " 10  Property_Area      614 non-null    int64  \n",
      " 11  Loan_Status        614 non-null    int64  \n",
      "dtypes: float64(4), int64(5), uint8(3)\n",
      "memory usage: 45.1 KB\n"
     ]
    }
   ],
   "source": [
    "df.info()"
   ]
  },
  {
   "cell_type": "markdown",
   "id": "b76c839f",
   "metadata": {
    "papermill": {
     "duration": 0.011192,
     "end_time": "2022-07-22T17:28:18.114393",
     "exception": false,
     "start_time": "2022-07-22T17:28:18.103201",
     "status": "completed"
    },
    "tags": []
   },
   "source": [
    "## Checking Outliers"
   ]
  },
  {
   "cell_type": "code",
   "execution_count": 21,
   "id": "c33a764a",
   "metadata": {
    "execution": {
     "iopub.execute_input": "2022-07-22T17:28:18.139810Z",
     "iopub.status.busy": "2022-07-22T17:28:18.138571Z",
     "iopub.status.idle": "2022-07-22T17:28:18.634306Z",
     "shell.execute_reply": "2022-07-22T17:28:18.633201Z"
    },
    "papermill": {
     "duration": 0.510778,
     "end_time": "2022-07-22T17:28:18.636697",
     "exception": false,
     "start_time": "2022-07-22T17:28:18.125919",
     "status": "completed"
    },
    "tags": []
   },
   "outputs": [
    {
     "data": {
      "image/png": "[encoded data removed]",
      "text/plain": [
       "<Figure size 720x720 with 4 Axes>"
      ]
     },
     "metadata": {
      "needs_background": "light"
     },
     "output_type": "display_data"
    }
   ],
   "source": [
    "fig, axis = plt.subplots(2, 2, figsize=(10,10))\n",
    "\n",
    "for id, i in enumerate(numerical):\n",
    "    sns.boxplot(data=df['{}'.format(i)], ax=axis[id//2, id%2])\n",
    "    axis[id//2, id%2].set_title(f'{i}')\n",
    "plt.tight_layout()"
   ]
  },
  {
   "cell_type": "markdown",
   "id": "ab362617",
   "metadata": {
    "papermill": {
     "duration": 0.011794,
     "end_time": "2022-07-22T17:28:18.660663",
     "exception": false,
     "start_time": "2022-07-22T17:28:18.648869",
     "status": "completed"
    },
    "tags": []
   },
   "source": [
    "## Removing Outliers"
   ]
  },
  {
   "cell_type": "code",
   "execution_count": 22,
   "id": "1fdaaec0",
   "metadata": {
    "execution": {
     "iopub.execute_input": "2022-07-22T17:28:18.686389Z",
     "iopub.status.busy": "2022-07-22T17:28:18.685990Z",
     "iopub.status.idle": "2022-07-22T17:28:18.699716Z",
     "shell.execute_reply": "2022-07-22T17:28:18.698656Z"
    },
    "papermill": {
     "duration": 0.029301,
     "end_time": "2022-07-22T17:28:18.701990",
     "exception": false,
     "start_time": "2022-07-22T17:28:18.672689",
     "status": "completed"
    },
    "tags": []
   },
   "outputs": [
    {
     "data": {
      "text/plain": [
       "ApplicantIncome      2917.50\n",
       "CoapplicantIncome    2297.25\n",
       "LoanAmount             64.50\n",
       "dtype: float64"
      ]
     },
     "execution_count": 22,
     "metadata": {},
     "output_type": "execute_result"
    }
   ],
   "source": [
    "Q1 = df[numerical].quantile(0.25)\n",
    "Q3 = df[numerical].quantile(0.75)\n",
    "IQR = Q3 - Q1\n",
    "IQR"
   ]
  },
  {
   "cell_type": "code",
   "execution_count": 23,
   "id": "5025a9a5",
   "metadata": {
    "execution": {
     "iopub.execute_input": "2022-07-22T17:28:18.728216Z",
     "iopub.status.busy": "2022-07-22T17:28:18.727464Z",
     "iopub.status.idle": "2022-07-22T17:28:18.771470Z",
     "shell.execute_reply": "2022-07-22T17:28:18.770369Z"
    },
    "papermill": {
     "duration": 0.059456,
     "end_time": "2022-07-22T17:28:18.773668",
     "exception": false,
     "start_time": "2022-07-22T17:28:18.714212",
     "status": "completed"
    },
    "tags": []
   },
   "outputs": [
    {
     "data": {
      "text/html": [
       "<div>\n",
       "<style scoped>\n",
       "    .dataframe tbody tr th:only-of-type {\n",
       "        vertical-align: middle;\n",
       "    }\n",
       "\n",
       "    .dataframe tbody tr th {\n",
       "        vertical-align: top;\n",
       "    }\n",
       "\n",
       "    .dataframe thead th {\n",
       "        text-align: right;\n",
       "    }\n",
       "</style>\n",
       "<table border=\"1\" class=\"dataframe\">\n",
       "  <thead>\n",
       "    <tr style=\"text-align: right;\">\n",
       "      <th></th>\n",
       "      <th>Gender</th>\n",
       "      <th>Married</th>\n",
       "      <th>Dependents</th>\n",
       "      <th>Education</th>\n",
       "      <th>Self_Employed</th>\n",
       "      <th>ApplicantIncome</th>\n",
       "      <th>CoapplicantIncome</th>\n",
       "      <th>LoanAmount</th>\n",
       "      <th>Loan_Amount_Term</th>\n",
       "      <th>Credit_History</th>\n",
       "      <th>Property_Area</th>\n",
       "      <th>Loan_Status</th>\n",
       "    </tr>\n",
       "  </thead>\n",
       "  <tbody>\n",
       "    <tr>\n",
       "      <th>0</th>\n",
       "      <td>1</td>\n",
       "      <td>0</td>\n",
       "      <td>0</td>\n",
       "      <td>1</td>\n",
       "      <td>0</td>\n",
       "      <td>5849.0</td>\n",
       "      <td>0.0</td>\n",
       "      <td>146.412162</td>\n",
       "      <td>360.0</td>\n",
       "      <td>1.0</td>\n",
       "      <td>1</td>\n",
       "      <td>1</td>\n",
       "    </tr>\n",
       "    <tr>\n",
       "      <th>1</th>\n",
       "      <td>1</td>\n",
       "      <td>1</td>\n",
       "      <td>1</td>\n",
       "      <td>1</td>\n",
       "      <td>0</td>\n",
       "      <td>4583.0</td>\n",
       "      <td>1508.0</td>\n",
       "      <td>128.000000</td>\n",
       "      <td>360.0</td>\n",
       "      <td>1.0</td>\n",
       "      <td>0</td>\n",
       "      <td>0</td>\n",
       "    </tr>\n",
       "    <tr>\n",
       "      <th>2</th>\n",
       "      <td>1</td>\n",
       "      <td>1</td>\n",
       "      <td>0</td>\n",
       "      <td>1</td>\n",
       "      <td>1</td>\n",
       "      <td>3000.0</td>\n",
       "      <td>0.0</td>\n",
       "      <td>66.000000</td>\n",
       "      <td>360.0</td>\n",
       "      <td>1.0</td>\n",
       "      <td>1</td>\n",
       "      <td>1</td>\n",
       "    </tr>\n",
       "    <tr>\n",
       "      <th>3</th>\n",
       "      <td>1</td>\n",
       "      <td>1</td>\n",
       "      <td>0</td>\n",
       "      <td>0</td>\n",
       "      <td>0</td>\n",
       "      <td>2583.0</td>\n",
       "      <td>2358.0</td>\n",
       "      <td>120.000000</td>\n",
       "      <td>360.0</td>\n",
       "      <td>1.0</td>\n",
       "      <td>1</td>\n",
       "      <td>1</td>\n",
       "    </tr>\n",
       "    <tr>\n",
       "      <th>4</th>\n",
       "      <td>1</td>\n",
       "      <td>0</td>\n",
       "      <td>0</td>\n",
       "      <td>1</td>\n",
       "      <td>0</td>\n",
       "      <td>6000.0</td>\n",
       "      <td>0.0</td>\n",
       "      <td>141.000000</td>\n",
       "      <td>360.0</td>\n",
       "      <td>1.0</td>\n",
       "      <td>1</td>\n",
       "      <td>1</td>\n",
       "    </tr>\n",
       "    <tr>\n",
       "      <th>...</th>\n",
       "      <td>...</td>\n",
       "      <td>...</td>\n",
       "      <td>...</td>\n",
       "      <td>...</td>\n",
       "      <td>...</td>\n",
       "      <td>...</td>\n",
       "      <td>...</td>\n",
       "      <td>...</td>\n",
       "      <td>...</td>\n",
       "      <td>...</td>\n",
       "      <td>...</td>\n",
       "      <td>...</td>\n",
       "    </tr>\n",
       "    <tr>\n",
       "      <th>530</th>\n",
       "      <td>0</td>\n",
       "      <td>0</td>\n",
       "      <td>0</td>\n",
       "      <td>1</td>\n",
       "      <td>0</td>\n",
       "      <td>2900.0</td>\n",
       "      <td>0.0</td>\n",
       "      <td>71.000000</td>\n",
       "      <td>360.0</td>\n",
       "      <td>1.0</td>\n",
       "      <td>0</td>\n",
       "      <td>1</td>\n",
       "    </tr>\n",
       "    <tr>\n",
       "      <th>531</th>\n",
       "      <td>1</td>\n",
       "      <td>1</td>\n",
       "      <td>3</td>\n",
       "      <td>1</td>\n",
       "      <td>0</td>\n",
       "      <td>4106.0</td>\n",
       "      <td>0.0</td>\n",
       "      <td>40.000000</td>\n",
       "      <td>180.0</td>\n",
       "      <td>1.0</td>\n",
       "      <td>0</td>\n",
       "      <td>1</td>\n",
       "    </tr>\n",
       "    <tr>\n",
       "      <th>532</th>\n",
       "      <td>1</td>\n",
       "      <td>1</td>\n",
       "      <td>1</td>\n",
       "      <td>1</td>\n",
       "      <td>0</td>\n",
       "      <td>8072.0</td>\n",
       "      <td>240.0</td>\n",
       "      <td>253.000000</td>\n",
       "      <td>360.0</td>\n",
       "      <td>1.0</td>\n",
       "      <td>1</td>\n",
       "      <td>1</td>\n",
       "    </tr>\n",
       "    <tr>\n",
       "      <th>533</th>\n",
       "      <td>1</td>\n",
       "      <td>1</td>\n",
       "      <td>2</td>\n",
       "      <td>1</td>\n",
       "      <td>0</td>\n",
       "      <td>7583.0</td>\n",
       "      <td>0.0</td>\n",
       "      <td>187.000000</td>\n",
       "      <td>360.0</td>\n",
       "      <td>1.0</td>\n",
       "      <td>1</td>\n",
       "      <td>1</td>\n",
       "    </tr>\n",
       "    <tr>\n",
       "      <th>534</th>\n",
       "      <td>0</td>\n",
       "      <td>0</td>\n",
       "      <td>0</td>\n",
       "      <td>1</td>\n",
       "      <td>1</td>\n",
       "      <td>4583.0</td>\n",
       "      <td>0.0</td>\n",
       "      <td>133.000000</td>\n",
       "      <td>360.0</td>\n",
       "      <td>0.0</td>\n",
       "      <td>2</td>\n",
       "      <td>0</td>\n",
       "    </tr>\n",
       "  </tbody>\n",
       "</table>\n",
       "<p>535 rows × 12 columns</p>\n",
       "</div>"
      ],
      "text/plain": [
       "     Gender  Married  Dependents  Education  Self_Employed  ApplicantIncome  \\\n",
       "0         1        0           0          1              0           5849.0   \n",
       "1         1        1           1          1              0           4583.0   \n",
       "2         1        1           0          1              1           3000.0   \n",
       "3         1        1           0          0              0           2583.0   \n",
       "4         1        0           0          1              0           6000.0   \n",
       "..      ...      ...         ...        ...            ...              ...   \n",
       "530       0        0           0          1              0           2900.0   \n",
       "531       1        1           3          1              0           4106.0   \n",
       "532       1        1           1          1              0           8072.0   \n",
       "533       1        1           2          1              0           7583.0   \n",
       "534       0        0           0          1              1           4583.0   \n",
       "\n",
       "     CoapplicantIncome  LoanAmount  Loan_Amount_Term  Credit_History  \\\n",
       "0                  0.0  146.412162             360.0             1.0   \n",
       "1               1508.0  128.000000             360.0             1.0   \n",
       "2                  0.0   66.000000             360.0             1.0   \n",
       "3               2358.0  120.000000             360.0             1.0   \n",
       "4                  0.0  141.000000             360.0             1.0   \n",
       "..                 ...         ...               ...             ...   \n",
       "530                0.0   71.000000             360.0             1.0   \n",
       "531                0.0   40.000000             180.0             1.0   \n",
       "532              240.0  253.000000             360.0             1.0   \n",
       "533                0.0  187.000000             360.0             1.0   \n",
       "534                0.0  133.000000             360.0             0.0   \n",
       "\n",
       "     Property_Area  Loan_Status  \n",
       "0                1            1  \n",
       "1                0            0  \n",
       "2                1            1  \n",
       "3                1            1  \n",
       "4                1            1  \n",
       "..             ...          ...  \n",
       "530              0            1  \n",
       "531              0            1  \n",
       "532              1            1  \n",
       "533              1            1  \n",
       "534              2            0  \n",
       "\n",
       "[535 rows x 12 columns]"
      ]
     },
     "execution_count": 23,
     "metadata": {},
     "output_type": "execute_result"
    }
   ],
   "source": [
    "df[numerical] = df[~((df[numerical] > Q3+1.5*IQR) | (df[numerical] < Q1 - 1.5*IQR))][numerical]\n",
    "df = df.dropna().reset_index().drop('index', axis=1)\n",
    "df"
   ]
  },
  {
   "cell_type": "markdown",
   "id": "04622568",
   "metadata": {
    "papermill": {
     "duration": 0.012297,
     "end_time": "2022-07-22T17:28:18.798871",
     "exception": false,
     "start_time": "2022-07-22T17:28:18.786574",
     "status": "completed"
    },
    "tags": []
   },
   "source": [
    "## Checking Skewness\n",
    "- Application Income and Co Applicant field is left skewed"
   ]
  },
  {
   "cell_type": "code",
   "execution_count": 24,
   "id": "9ae2b7da",
   "metadata": {
    "execution": {
     "iopub.execute_input": "2022-07-22T17:28:18.825774Z",
     "iopub.status.busy": "2022-07-22T17:28:18.825119Z",
     "iopub.status.idle": "2022-07-22T17:28:19.422517Z",
     "shell.execute_reply": "2022-07-22T17:28:19.421450Z"
    },
    "papermill": {
     "duration": 0.613336,
     "end_time": "2022-07-22T17:28:19.424836",
     "exception": false,
     "start_time": "2022-07-22T17:28:18.811500",
     "status": "completed"
    },
    "tags": []
   },
   "outputs": [
    {
     "data": {
      "image/png": "[encoded data removed]",
      "text/plain": [
       "<Figure size 360x720 with 3 Axes>"
      ]
     },
     "metadata": {
      "needs_background": "light"
     },
     "output_type": "display_data"
    }
   ],
   "source": [
    "fig, axis = plt.subplots(3, 1, figsize=((5, 10)))\n",
    "for id, i in enumerate(numerical):\n",
    "    sns.histplot(data=df['{}'.format(i)], ax=axis[id])\n",
    "plt.tight_layout()"
   ]
  },
  {
   "cell_type": "markdown",
   "id": "bfefa017",
   "metadata": {
    "papermill": {
     "duration": 0.01283,
     "end_time": "2022-07-22T17:28:19.450606",
     "exception": false,
     "start_time": "2022-07-22T17:28:19.437776",
     "status": "completed"
    },
    "tags": []
   },
   "source": [
    "- Fixing Skewness of using sqrt transformation\n",
    "- Log transformation is leading to right skewness"
   ]
  },
  {
   "cell_type": "code",
   "execution_count": 25,
   "id": "742aa252",
   "metadata": {
    "execution": {
     "iopub.execute_input": "2022-07-22T17:28:19.479200Z",
     "iopub.status.busy": "2022-07-22T17:28:19.478382Z",
     "iopub.status.idle": "2022-07-22T17:28:19.928726Z",
     "shell.execute_reply": "2022-07-22T17:28:19.927731Z"
    },
    "papermill": {
     "duration": 0.467326,
     "end_time": "2022-07-22T17:28:19.930987",
     "exception": false,
     "start_time": "2022-07-22T17:28:19.463661",
     "status": "completed"
    },
    "tags": []
   },
   "outputs": [
    {
     "data": {
      "image/png": "[encoded data removed]",
      "text/plain": [
       "<Figure size 432x288 with 2 Axes>"
      ]
     },
     "metadata": {
      "needs_background": "light"
     },
     "output_type": "display_data"
    }
   ],
   "source": [
    "fig, axis = plt.subplots(2,1)\n",
    "sns.histplot(np.sqrt(df['CoapplicantIncome']), ax=axis[0])\n",
    "sns.histplot(np.sqrt(df['ApplicantIncome']), ax=axis[1])\n",
    "plt.show()"
   ]
  },
  {
   "cell_type": "markdown",
   "id": "6b89a710",
   "metadata": {
    "papermill": {
     "duration": 0.013478,
     "end_time": "2022-07-22T17:28:19.957801",
     "exception": false,
     "start_time": "2022-07-22T17:28:19.944323",
     "status": "completed"
    },
    "tags": []
   },
   "source": [
    "- Yep it is fixed :)"
   ]
  },
  {
   "cell_type": "code",
   "execution_count": 26,
   "id": "4f91a1a6",
   "metadata": {
    "execution": {
     "iopub.execute_input": "2022-07-22T17:28:19.986976Z",
     "iopub.status.busy": "2022-07-22T17:28:19.986111Z",
     "iopub.status.idle": "2022-07-22T17:28:19.992604Z",
     "shell.execute_reply": "2022-07-22T17:28:19.991818Z"
    },
    "papermill": {
     "duration": 0.023445,
     "end_time": "2022-07-22T17:28:19.994740",
     "exception": false,
     "start_time": "2022-07-22T17:28:19.971295",
     "status": "completed"
    },
    "tags": []
   },
   "outputs": [],
   "source": [
    "df['CoapplicantIncome'], df['ApplicantIncome'] = np.sqrt(df['CoapplicantIncome']), np.sqrt(df['ApplicantIncome'])"
   ]
  },
  {
   "cell_type": "code",
   "execution_count": 27,
   "id": "8e944c43",
   "metadata": {
    "execution": {
     "iopub.execute_input": "2022-07-22T17:28:20.023809Z",
     "iopub.status.busy": "2022-07-22T17:28:20.023123Z",
     "iopub.status.idle": "2022-07-22T17:28:20.045719Z",
     "shell.execute_reply": "2022-07-22T17:28:20.044538Z"
    },
    "papermill": {
     "duration": 0.039812,
     "end_time": "2022-07-22T17:28:20.048056",
     "exception": false,
     "start_time": "2022-07-22T17:28:20.008244",
     "status": "completed"
    },
    "tags": []
   },
   "outputs": [
    {
     "data": {
      "text/html": [
       "<div>\n",
       "<style scoped>\n",
       "    .dataframe tbody tr th:only-of-type {\n",
       "        vertical-align: middle;\n",
       "    }\n",
       "\n",
       "    .dataframe tbody tr th {\n",
       "        vertical-align: top;\n",
       "    }\n",
       "\n",
       "    .dataframe thead th {\n",
       "        text-align: right;\n",
       "    }\n",
       "</style>\n",
       "<table border=\"1\" class=\"dataframe\">\n",
       "  <thead>\n",
       "    <tr style=\"text-align: right;\">\n",
       "      <th></th>\n",
       "      <th>Gender</th>\n",
       "      <th>Married</th>\n",
       "      <th>Dependents</th>\n",
       "      <th>Education</th>\n",
       "      <th>Self_Employed</th>\n",
       "      <th>ApplicantIncome</th>\n",
       "      <th>CoapplicantIncome</th>\n",
       "      <th>LoanAmount</th>\n",
       "      <th>Loan_Amount_Term</th>\n",
       "      <th>Credit_History</th>\n",
       "      <th>Property_Area</th>\n",
       "      <th>Loan_Status</th>\n",
       "    </tr>\n",
       "  </thead>\n",
       "  <tbody>\n",
       "    <tr>\n",
       "      <th>Gender</th>\n",
       "      <td>1.000000</td>\n",
       "      <td>0.372519</td>\n",
       "      <td>0.187076</td>\n",
       "      <td>-0.072320</td>\n",
       "      <td>0.021148</td>\n",
       "      <td>0.079306</td>\n",
       "      <td>0.217693</td>\n",
       "      <td>0.148249</td>\n",
       "      <td>-0.079050</td>\n",
       "      <td>0.005714</td>\n",
       "      <td>-0.096797</td>\n",
       "      <td>0.047217</td>\n",
       "    </tr>\n",
       "    <tr>\n",
       "      <th>Married</th>\n",
       "      <td>0.372519</td>\n",
       "      <td>1.000000</td>\n",
       "      <td>0.340098</td>\n",
       "      <td>-0.025423</td>\n",
       "      <td>0.016299</td>\n",
       "      <td>-0.005074</td>\n",
       "      <td>0.316334</td>\n",
       "      <td>0.203016</td>\n",
       "      <td>-0.087666</td>\n",
       "      <td>0.008181</td>\n",
       "      <td>0.032102</td>\n",
       "      <td>0.085391</td>\n",
       "    </tr>\n",
       "    <tr>\n",
       "      <th>Dependents</th>\n",
       "      <td>0.187076</td>\n",
       "      <td>0.340098</td>\n",
       "      <td>1.000000</td>\n",
       "      <td>-0.082991</td>\n",
       "      <td>0.054542</td>\n",
       "      <td>0.123949</td>\n",
       "      <td>-0.038643</td>\n",
       "      <td>0.114099</td>\n",
       "      <td>-0.092739</td>\n",
       "      <td>-0.032058</td>\n",
       "      <td>0.031361</td>\n",
       "      <td>0.008150</td>\n",
       "    </tr>\n",
       "    <tr>\n",
       "      <th>Education</th>\n",
       "      <td>-0.072320</td>\n",
       "      <td>-0.025423</td>\n",
       "      <td>-0.082991</td>\n",
       "      <td>1.000000</td>\n",
       "      <td>-0.000869</td>\n",
       "      <td>0.143617</td>\n",
       "      <td>-0.010257</td>\n",
       "      <td>0.117899</td>\n",
       "      <td>0.073561</td>\n",
       "      <td>0.085002</td>\n",
       "      <td>0.079451</td>\n",
       "      <td>0.114159</td>\n",
       "    </tr>\n",
       "    <tr>\n",
       "      <th>Self_Employed</th>\n",
       "      <td>0.021148</td>\n",
       "      <td>0.016299</td>\n",
       "      <td>0.054542</td>\n",
       "      <td>-0.000869</td>\n",
       "      <td>1.000000</td>\n",
       "      <td>0.170589</td>\n",
       "      <td>-0.082500</td>\n",
       "      <td>0.087663</td>\n",
       "      <td>-0.064348</td>\n",
       "      <td>0.031554</td>\n",
       "      <td>-0.000936</td>\n",
       "      <td>-0.005302</td>\n",
       "    </tr>\n",
       "    <tr>\n",
       "      <th>ApplicantIncome</th>\n",
       "      <td>0.079306</td>\n",
       "      <td>-0.005074</td>\n",
       "      <td>0.123949</td>\n",
       "      <td>0.143617</td>\n",
       "      <td>0.170589</td>\n",
       "      <td>1.000000</td>\n",
       "      <td>-0.339271</td>\n",
       "      <td>0.459540</td>\n",
       "      <td>-0.066839</td>\n",
       "      <td>0.044169</td>\n",
       "      <td>-0.024648</td>\n",
       "      <td>0.012179</td>\n",
       "    </tr>\n",
       "    <tr>\n",
       "      <th>CoapplicantIncome</th>\n",
       "      <td>0.217693</td>\n",
       "      <td>0.316334</td>\n",
       "      <td>-0.038643</td>\n",
       "      <td>-0.010257</td>\n",
       "      <td>-0.082500</td>\n",
       "      <td>-0.339271</td>\n",
       "      <td>1.000000</td>\n",
       "      <td>0.244993</td>\n",
       "      <td>0.015383</td>\n",
       "      <td>0.007661</td>\n",
       "      <td>-0.044190</td>\n",
       "      <td>0.085841</td>\n",
       "    </tr>\n",
       "    <tr>\n",
       "      <th>LoanAmount</th>\n",
       "      <td>0.148249</td>\n",
       "      <td>0.203016</td>\n",
       "      <td>0.114099</td>\n",
       "      <td>0.117899</td>\n",
       "      <td>0.087663</td>\n",
       "      <td>0.459540</td>\n",
       "      <td>0.244993</td>\n",
       "      <td>1.000000</td>\n",
       "      <td>0.087457</td>\n",
       "      <td>0.008066</td>\n",
       "      <td>-0.014546</td>\n",
       "      <td>-0.020474</td>\n",
       "    </tr>\n",
       "    <tr>\n",
       "      <th>Loan_Amount_Term</th>\n",
       "      <td>-0.079050</td>\n",
       "      <td>-0.087666</td>\n",
       "      <td>-0.092739</td>\n",
       "      <td>0.073561</td>\n",
       "      <td>-0.064348</td>\n",
       "      <td>-0.066839</td>\n",
       "      <td>0.015383</td>\n",
       "      <td>0.087457</td>\n",
       "      <td>1.000000</td>\n",
       "      <td>-0.017483</td>\n",
       "      <td>0.020529</td>\n",
       "      <td>-0.025424</td>\n",
       "    </tr>\n",
       "    <tr>\n",
       "      <th>Credit_History</th>\n",
       "      <td>0.005714</td>\n",
       "      <td>0.008181</td>\n",
       "      <td>-0.032058</td>\n",
       "      <td>0.085002</td>\n",
       "      <td>0.031554</td>\n",
       "      <td>0.044169</td>\n",
       "      <td>0.007661</td>\n",
       "      <td>0.008066</td>\n",
       "      <td>-0.017483</td>\n",
       "      <td>1.000000</td>\n",
       "      <td>0.042290</td>\n",
       "      <td>0.566580</td>\n",
       "    </tr>\n",
       "    <tr>\n",
       "      <th>Property_Area</th>\n",
       "      <td>-0.096797</td>\n",
       "      <td>0.032102</td>\n",
       "      <td>0.031361</td>\n",
       "      <td>0.079451</td>\n",
       "      <td>-0.000936</td>\n",
       "      <td>-0.024648</td>\n",
       "      <td>-0.044190</td>\n",
       "      <td>-0.014546</td>\n",
       "      <td>0.020529</td>\n",
       "      <td>0.042290</td>\n",
       "      <td>1.000000</td>\n",
       "      <td>0.141895</td>\n",
       "    </tr>\n",
       "    <tr>\n",
       "      <th>Loan_Status</th>\n",
       "      <td>0.047217</td>\n",
       "      <td>0.085391</td>\n",
       "      <td>0.008150</td>\n",
       "      <td>0.114159</td>\n",
       "      <td>-0.005302</td>\n",
       "      <td>0.012179</td>\n",
       "      <td>0.085841</td>\n",
       "      <td>-0.020474</td>\n",
       "      <td>-0.025424</td>\n",
       "      <td>0.566580</td>\n",
       "      <td>0.141895</td>\n",
       "      <td>1.000000</td>\n",
       "    </tr>\n",
       "  </tbody>\n",
       "</table>\n",
       "</div>"
      ],
      "text/plain": [
       "                     Gender   Married  Dependents  Education  Self_Employed  \\\n",
       "Gender             1.000000  0.372519    0.187076  -0.072320       0.021148   \n",
       "Married            0.372519  1.000000    0.340098  -0.025423       0.016299   \n",
       "Dependents         0.187076  0.340098    1.000000  -0.082991       0.054542   \n",
       "Education         -0.072320 -0.025423   -0.082991   1.000000      -0.000869   \n",
       "Self_Employed      0.021148  0.016299    0.054542  -0.000869       1.000000   \n",
       "ApplicantIncome    0.079306 -0.005074    0.123949   0.143617       0.170589   \n",
       "CoapplicantIncome  0.217693  0.316334   -0.038643  -0.010257      -0.082500   \n",
       "LoanAmount         0.148249  0.203016    0.114099   0.117899       0.087663   \n",
       "Loan_Amount_Term  -0.079050 -0.087666   -0.092739   0.073561      -0.064348   \n",
       "Credit_History     0.005714  0.008181   -0.032058   0.085002       0.031554   \n",
       "Property_Area     -0.096797  0.032102    0.031361   0.079451      -0.000936   \n",
       "Loan_Status        0.047217  0.085391    0.008150   0.114159      -0.005302   \n",
       "\n",
       "                   ApplicantIncome  CoapplicantIncome  LoanAmount  \\\n",
       "Gender                    0.079306           0.217693    0.148249   \n",
       "Married                  -0.005074           0.316334    0.203016   \n",
       "Dependents                0.123949          -0.038643    0.114099   \n",
       "Education                 0.143617          -0.010257    0.117899   \n",
       "Self_Employed             0.170589          -0.082500    0.087663   \n",
       "ApplicantIncome           1.000000          -0.339271    0.459540   \n",
       "CoapplicantIncome        -0.339271           1.000000    0.244993   \n",
       "LoanAmount                0.459540           0.244993    1.000000   \n",
       "Loan_Amount_Term         -0.066839           0.015383    0.087457   \n",
       "Credit_History            0.044169           0.007661    0.008066   \n",
       "Property_Area            -0.024648          -0.044190   -0.014546   \n",
       "Loan_Status               0.012179           0.085841   -0.020474   \n",
       "\n",
       "                   Loan_Amount_Term  Credit_History  Property_Area  \\\n",
       "Gender                    -0.079050        0.005714      -0.096797   \n",
       "Married                   -0.087666        0.008181       0.032102   \n",
       "Dependents                -0.092739       -0.032058       0.031361   \n",
       "Education                  0.073561        0.085002       0.079451   \n",
       "Self_Employed             -0.064348        0.031554      -0.000936   \n",
       "ApplicantIncome           -0.066839        0.044169      -0.024648   \n",
       "CoapplicantIncome          0.015383        0.007661      -0.044190   \n",
       "LoanAmount                 0.087457        0.008066      -0.014546   \n",
       "Loan_Amount_Term           1.000000       -0.017483       0.020529   \n",
       "Credit_History            -0.017483        1.000000       0.042290   \n",
       "Property_Area              0.020529        0.042290       1.000000   \n",
       "Loan_Status               -0.025424        0.566580       0.141895   \n",
       "\n",
       "                   Loan_Status  \n",
       "Gender                0.047217  \n",
       "Married               0.085391  \n",
       "Dependents            0.008150  \n",
       "Education             0.114159  \n",
       "Self_Employed        -0.005302  \n",
       "ApplicantIncome       0.012179  \n",
       "CoapplicantIncome     0.085841  \n",
       "LoanAmount           -0.020474  \n",
       "Loan_Amount_Term     -0.025424  \n",
       "Credit_History        0.566580  \n",
       "Property_Area         0.141895  \n",
       "Loan_Status           1.000000  "
      ]
     },
     "execution_count": 27,
     "metadata": {},
     "output_type": "execute_result"
    }
   ],
   "source": [
    "df.corr()"
   ]
  },
  {
   "cell_type": "markdown",
   "id": "ea9ebc33",
   "metadata": {
    "papermill": {
     "duration": 0.013306,
     "end_time": "2022-07-22T17:28:20.075172",
     "exception": false,
     "start_time": "2022-07-22T17:28:20.061866",
     "status": "completed"
    },
    "tags": []
   },
   "source": [
    "## Checking Imbalance\n",
    "- Number of approved Loans are much more than Number of approved Loans"
   ]
  },
  {
   "cell_type": "code",
   "execution_count": 28,
   "id": "15f82548",
   "metadata": {
    "execution": {
     "iopub.execute_input": "2022-07-22T17:28:20.104535Z",
     "iopub.status.busy": "2022-07-22T17:28:20.103794Z",
     "iopub.status.idle": "2022-07-22T17:28:20.304093Z",
     "shell.execute_reply": "2022-07-22T17:28:20.302908Z"
    },
    "papermill": {
     "duration": 0.217581,
     "end_time": "2022-07-22T17:28:20.306419",
     "exception": false,
     "start_time": "2022-07-22T17:28:20.088838",
     "status": "completed"
    },
    "tags": []
   },
   "outputs": [
    {
     "data": {
      "text/plain": [
       "<AxesSubplot:xlabel='Loan_Status', ylabel='Count'>"
      ]
     },
     "execution_count": 28,
     "metadata": {},
     "output_type": "execute_result"
    },
    {
     "data": {
      "image/png": "[encoded data removed]",
      "text/plain": [
       "<Figure size 432x288 with 1 Axes>"
      ]
     },
     "metadata": {
      "needs_background": "light"
     },
     "output_type": "display_data"
    }
   ],
   "source": [
    "sns.histplot(df['Loan_Status'])"
   ]
  },
  {
   "cell_type": "markdown",
   "id": "469fe40d",
   "metadata": {
    "papermill": {
     "duration": 0.013674,
     "end_time": "2022-07-22T17:28:20.334354",
     "exception": false,
     "start_time": "2022-07-22T17:28:20.320680",
     "status": "completed"
    },
    "tags": []
   },
   "source": [
    "## Splitting into training and testing then using SMOTE to rectify class imbalance"
   ]
  },
  {
   "cell_type": "code",
   "execution_count": 29,
   "id": "d2499f61",
   "metadata": {
    "execution": {
     "iopub.execute_input": "2022-07-22T17:28:20.364100Z",
     "iopub.status.busy": "2022-07-22T17:28:20.363169Z",
     "iopub.status.idle": "2022-07-22T17:28:20.377585Z",
     "shell.execute_reply": "2022-07-22T17:28:20.376818Z"
    },
    "papermill": {
     "duration": 0.031447,
     "end_time": "2022-07-22T17:28:20.379714",
     "exception": false,
     "start_time": "2022-07-22T17:28:20.348267",
     "status": "completed"
    },
    "tags": []
   },
   "outputs": [],
   "source": [
    "X_train, X_test, y_train, y_test = train_test_split(df[list(df.keys().drop('Loan_Status'))], df['Loan_Status'], test_size=0.2, random_state=42)\n",
    "X_train, y_train = SMOTE().fit_resample(X=X_train, y=y_train)"
   ]
  },
  {
   "cell_type": "markdown",
   "id": "98809914",
   "metadata": {
    "papermill": {
     "duration": 0.01361,
     "end_time": "2022-07-22T17:28:20.407331",
     "exception": false,
     "start_time": "2022-07-22T17:28:20.393721",
     "status": "completed"
    },
    "tags": []
   },
   "source": [
    "## Using XGBoost and checking the appropriate value of max_depth parameter"
   ]
  },
  {
   "cell_type": "code",
   "execution_count": 30,
   "id": "da0aa955",
   "metadata": {
    "execution": {
     "iopub.execute_input": "2022-07-22T17:28:20.437282Z",
     "iopub.status.busy": "2022-07-22T17:28:20.436627Z",
     "iopub.status.idle": "2022-07-22T17:28:54.819884Z",
     "shell.execute_reply": "2022-07-22T17:28:54.818617Z"
    },
    "papermill": {
     "duration": 34.401128,
     "end_time": "2022-07-22T17:28:54.822353",
     "exception": false,
     "start_time": "2022-07-22T17:28:20.421225",
     "status": "completed"
    },
    "tags": []
   },
   "outputs": [],
   "source": [
    "precision = []\n",
    "recall = []\n",
    "macc = []\n",
    "f1 = []\n",
    "for max_depth in range(3, 15):\n",
    "    XGBclassifier = XGBClassifier(n_estimators = 1000, max_depth = max_depth, learning_rate = 0.03, objective = 'binary:logistic', eval_metric = 'auc')\n",
    "    XGBclassifier.fit(X_train, y_train)\n",
    "    xyz = XGBclassifier.predict(X_test)\n",
    "    precision.append(precision_score(y_test, xyz))\n",
    "    recall.append(recall_score(y_test, xyz))\n",
    "    f1.append(f1_score(y_test, xyz))\n",
    "    macc.append(accuracy_score(y_test, xyz))"
   ]
  },
  {
   "cell_type": "code",
   "execution_count": 31,
   "id": "89ca78dd",
   "metadata": {
    "execution": {
     "iopub.execute_input": "2022-07-22T17:28:54.853261Z",
     "iopub.status.busy": "2022-07-22T17:28:54.852415Z",
     "iopub.status.idle": "2022-07-22T17:28:55.078399Z",
     "shell.execute_reply": "2022-07-22T17:28:55.077381Z"
    },
    "papermill": {
     "duration": 0.243676,
     "end_time": "2022-07-22T17:28:55.080692",
     "exception": false,
     "start_time": "2022-07-22T17:28:54.837016",
     "status": "completed"
    },
    "tags": []
   },
   "outputs": [
    {
     "data": {
      "text/plain": [
       "<matplotlib.legend.Legend at 0x7f9f2b1c54f0>"
      ]
     },
     "execution_count": 31,
     "metadata": {},
     "output_type": "execute_result"
    },
    {
     "data": {
      "image/png": "[encoded data removed]",
      "text/plain": [
       "<Figure size 432x288 with 1 Axes>"
      ]
     },
     "metadata": {
      "needs_background": "light"
     },
     "output_type": "display_data"
    }
   ],
   "source": [
    "X = np.arange(3, 15)\n",
    "plt.plot(X[:12], precision[:12], label = 'Precision')\n",
    "plt.plot(X[:12], recall[:12], label = 'Recall')\n",
    "plt.plot(X[:12], f1[:12], label = 'F1 Score')\n",
    "plt.plot(X[:12], macc[:12], label = 'Acc')\n",
    "plt.legend()"
   ]
  },
  {
   "cell_type": "code",
   "execution_count": 32,
   "id": "686ad14a",
   "metadata": {
    "execution": {
     "iopub.execute_input": "2022-07-22T17:28:55.112618Z",
     "iopub.status.busy": "2022-07-22T17:28:55.111551Z",
     "iopub.status.idle": "2022-07-22T17:28:55.119228Z",
     "shell.execute_reply": "2022-07-22T17:28:55.118220Z"
    },
    "papermill": {
     "duration": 0.025885,
     "end_time": "2022-07-22T17:28:55.121395",
     "exception": false,
     "start_time": "2022-07-22T17:28:55.095510",
     "status": "completed"
    },
    "tags": []
   },
   "outputs": [
    {
     "data": {
      "text/plain": [
       "8"
      ]
     },
     "execution_count": 32,
     "metadata": {},
     "output_type": "execute_result"
    }
   ],
   "source": [
    "max_depth = mode([3+np.argmax(f1), 3+np.argmax(precision), 3+np.argmax(macc), 3+np.argmax(recall)])\n",
    "max_depth"
   ]
  },
  {
   "cell_type": "markdown",
   "id": "f099c123",
   "metadata": {
    "papermill": {
     "duration": 0.014712,
     "end_time": "2022-07-22T17:28:55.150954",
     "exception": false,
     "start_time": "2022-07-22T17:28:55.136242",
     "status": "completed"
    },
    "tags": []
   },
   "source": [
    "## Training XGBoost over training data"
   ]
  },
  {
   "cell_type": "code",
   "execution_count": 33,
   "id": "5b8d7ba9",
   "metadata": {
    "execution": {
     "iopub.execute_input": "2022-07-22T17:28:55.182245Z",
     "iopub.status.busy": "2022-07-22T17:28:55.181856Z",
     "iopub.status.idle": "2022-07-22T17:28:57.669963Z",
     "shell.execute_reply": "2022-07-22T17:28:57.668594Z"
    },
    "papermill": {
     "duration": 2.506775,
     "end_time": "2022-07-22T17:28:57.672462",
     "exception": false,
     "start_time": "2022-07-22T17:28:55.165687",
     "status": "completed"
    },
    "tags": []
   },
   "outputs": [
    {
     "name": "stdout",
     "output_type": "stream",
     "text": [
      "[[20 10]\n",
      " [ 5 72]]\n",
      "precision_score: 0.8780487804878049\n",
      "recall_score: 0.935064935064935\n",
      "f1_Score: 0.9056603773584906\n",
      "accuracy_score: 0.8598130841121495\n"
     ]
    }
   ],
   "source": [
    "XGBclassifier = XGBClassifier(n_estimators = 1000, max_depth = max_depth, learning_rate = 0.03, objective = 'binary:logistic', eval_metric = 'auc')\n",
    "XGBclassifier.fit(X_train, y_train)\n",
    "y_pred = XGBclassifier.predict(X_test)\n",
    "print(confusion_matrix(y_test, y_pred))\n",
    "\"\"\"Confusion Matrix\n",
    "TP FP\n",
    "FN TN\n",
    "\"\"\"\n",
    "print(f\"precision_score: {precision_score(y_test, y_pred)}\\nrecall_score: {recall_score(y_test, y_pred)}\\nf1_Score: {f1_score(y_test, y_pred)}\\naccuracy_score: {accuracy_score(y_test, y_pred)}\")"
   ]
  },
  {
   "cell_type": "code",
   "execution_count": 34,
   "id": "93176f91",
   "metadata": {},
   "outputs": [],
   "source": [
    "with open('../models/model.bin', 'wb') as f_out:\n",
    "    pickle.dump((XGBclassifier), f_out)"
   ]
  },
  {
   "attachments": {},
   "cell_type": "markdown",
   "id": "921d3697",
   "metadata": {
    "papermill": {
     "duration": 0.014731,
     "end_time": "2022-07-22T17:28:57.702281",
     "exception": false,
     "start_time": "2022-07-22T17:28:57.687550",
     "status": "completed"
    },
    "tags": []
   },
   "source": [
    "## Results:\n",
    "- Precision is 0.875\n",
    "- Recall is 0.909\n",
    "- At time of Bull Market the lenders can handle bad clients as long as the vast majority of applicants payback their credit.In this case, having a good recall (sensitivity) score is prefered.\n",
    "- At time of Bear Market the lenders prefer a smaller number of good clients even if it means that some good clients where denied credit, and prevent any bad client. In this case, having a good precision score is prefered."
   ]
  },
  {
   "attachments": {},
   "cell_type": "markdown",
   "id": "8495c9ab",
   "metadata": {},
   "source": [
    "## End!"
   ]
  }
 ],
 "metadata": {
  "kernelspec": {
   "display_name": "base",
   "language": "python",
   "name": "python3"
  },
  "language_info": {
   "codemirror_mode": {
    "name": "ipython",
    "version": 3
   },
   "file_extension": ".py",
   "mimetype": "text/x-python",
   "name": "python",
   "nbconvert_exporter": "python",
   "pygments_lexer": "ipython3",
   "version": "3.9.7"
  },
  "papermill": {
   "default_parameters": {},
   "duration": 52.465428,
   "end_time": "2022-07-22T17:28:58.467527",
   "environment_variables": {},
   "exception": null,
   "input_path": "__notebook__.ipynb",
   "output_path": "__notebook__.ipynb",
   "parameters": {},
   "start_time": "2022-07-22T17:28:06.002099",
   "version": "2.3.4"
  },
  "vscode": {
   "interpreter": {
    "hash": "40d3a090f54c6569ab1632332b64b2c03c39dcf918b08424e98f38b5ae0af88f"
   }
  }
 },
 "nbformat": 4,
 "nbformat_minor": 5
}
